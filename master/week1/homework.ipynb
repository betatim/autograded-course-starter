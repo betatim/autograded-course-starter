{
 "cells": [
  {
   "cell_type": "markdown",
   "metadata": {
    "nbgrader": {
     "grade": false,
     "grade_id": "hw4_instructions",
     "locked": true,
     "schema_version": 1,
     "solution": false
    }
   },
   "source": [
    "# Homework: lecture 1 (x points)\n",
    "\n",
    "\n",
    "To begin, answer the questions below:\n"
   ]
  },
  {
   "cell_type": "code",
   "execution_count": 1,
   "metadata": {},
   "outputs": [],
   "source": [
    "# Packages and code used to make the grading work\n",
    "# Do not edit this, just execute it\n",
    "from grading.ok import check"
   ]
  },
  {
   "cell_type": "markdown",
   "metadata": {},
   "source": [
    "## Question 1\n",
    "\n",
    "Create a function called `xtimesy` that takes to numbers as input and multiplies their absolute values."
   ]
  },
  {
   "cell_type": "code",
   "execution_count": 2,
   "metadata": {
    "tags": [
     "q1"
    ]
   },
   "outputs": [],
   "source": [
    "### BEGIN SOLUTION\n",
    "\n",
    "def xtimesy(x, y):\n",
    "    return abs(x) * abs(y)\n",
    "\n",
    "### END SOLUTION"
   ]
  },
  {
   "cell_type": "code",
   "execution_count": 3,
   "metadata": {
    "tags": [
     "public",
     "q1"
    ]
   },
   "outputs": [],
   "source": [
    "# this will be a public test of the answer\n",
    "assert xtimesy(3, 2) == 6, \"3 times 2 should equal 6\""
   ]
  },
  {
   "cell_type": "code",
   "execution_count": 4,
   "metadata": {
    "tags": [
     "q1",
     "public"
    ]
   },
   "outputs": [],
   "source": [
    "res = xtimesy(3, -2)\n",
    "assert res == 6, \"3 times -2 should also equal 6, not {}\".format(res)"
   ]
  },
  {
   "cell_type": "code",
   "execution_count": 5,
   "metadata": {
    "tags": [
     "q1",
     "private"
    ]
   },
   "outputs": [],
   "source": [
    "assert xtimesy(3.141, -2) == 3.141*2, \"3.141 times -2 should equal 6, not {}\".format(3.141*2)"
   ]
  },
  {
   "cell_type": "code",
   "execution_count": null,
   "metadata": {},
   "outputs": [],
   "source": []
  }
 ],
 "metadata": {
  "celltoolbar": "Tags",
  "kernelspec": {
   "display_name": "Python 3",
   "language": "python",
   "name": "python3"
  },
  "language_info": {
   "codemirror_mode": {
    "name": "ipython",
    "version": 3
   },
   "file_extension": ".py",
   "mimetype": "text/x-python",
   "name": "python",
   "nbconvert_exporter": "python",
   "pygments_lexer": "ipython3",
   "version": "3.6.6"
  }
 },
 "nbformat": 4,
 "nbformat_minor": 2
}
